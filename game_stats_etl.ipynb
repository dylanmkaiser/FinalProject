{
 "cells": [
  {
   "cell_type": "code",
   "execution_count": 4,
   "metadata": {},
   "outputs": [],
   "source": [
    "import pandas as pd\n",
    "from bs4 import BeautifulSoup\n",
    "import requests"
   ]
  },
  {
   "cell_type": "code",
   "execution_count": 5,
   "metadata": {},
   "outputs": [],
   "source": [
    "home_abv='BAL'\n",
    "year='2018'\n",
    "month='06'\n",
    "day='01'"
   ]
  },
  {
   "cell_type": "code",
   "execution_count": 6,
   "metadata": {},
   "outputs": [
    {
     "ename": "NameError",
     "evalue": "name 'team' is not defined",
     "output_type": "error",
     "traceback": [
      "\u001b[0;31m---------------------------------------------------------------------------\u001b[0m",
      "\u001b[0;31mNameError\u001b[0m                                 Traceback (most recent call last)",
      "\u001b[0;32m<ipython-input-6-51e761583793>\u001b[0m in \u001b[0;36m<module>\u001b[0;34m\u001b[0m\n\u001b[1;32m      6\u001b[0m \u001b[0;34m\u001b[0m\u001b[0m\n\u001b[1;32m      7\u001b[0m \u001b[0;31m#Number of Games Played This Season/Test if We Should Record Data\u001b[0m\u001b[0;34m\u001b[0m\u001b[0;34m\u001b[0m\u001b[0;34m\u001b[0m\u001b[0m\n\u001b[0;32m----> 8\u001b[0;31m \u001b[0mgame_no\u001b[0m\u001b[0;34m=\u001b[0m\u001b[0mteam\u001b[0m\u001b[0;34m[\u001b[0m\u001b[0;36m1\u001b[0m\u001b[0;34m]\u001b[0m\u001b[0;34m[\u001b[0m\u001b[0;36m3\u001b[0m\u001b[0;34m]\u001b[0m\u001b[0;34m\u001b[0m\u001b[0;34m\u001b[0m\u001b[0m\n\u001b[0m",
      "\u001b[0;31mNameError\u001b[0m: name 'team' is not defined"
     ]
    }
   ],
   "source": [
    "url=f'https://www.baseball-reference.com/previews/{year}/{home_abv}{year}{month}{day}0.shtml'\n",
    "\n",
    "#Scrape Soup\n",
    "response = requests.get(url)\n",
    "soup = BeautifulSoup(response.text, 'html.parser')\n",
    "\n",
    "#Number of Games Played This Season/Test if We Should Record Data\n",
    "game_no=team[1][3]"
   ]
  },
  {
   "cell_type": "code",
   "execution_count": 313,
   "metadata": {},
   "outputs": [],
   "source": [
    "#Scrape Pandas Tables\n",
    "tables=pd.read_html(url)"
   ]
  },
  {
   "cell_type": "code",
   "execution_count": 240,
   "metadata": {},
   "outputs": [],
   "source": [
    "#Function that calculates win % or returns 50% if no record\n",
    "def record_split(record_string):\n",
    "    cleaned=record_string.strip(',').split('-')\n",
    "    if int(cleaned[0])+int(cleaned[1])==0:\n",
    "        return .5\n",
    "    else:\n",
    "        return round(int(cleaned[0])/(int(cleaned[1])+int(cleaned[0])),2)"
   ]
  },
  {
   "cell_type": "code",
   "execution_count": 314,
   "metadata": {},
   "outputs": [],
   "source": [
    "#Ugly Away Pitcher Data\n",
    "away_pitcher=str(soup.find_all('h2')[2]).split()\n",
    "\n",
    "#Away Pitcher Handedness\n",
    "away_pitcher_hand=away_pitcher[5]\n",
    "if away_pitcher_hand=='RHP,':\n",
    "    away_pitcher_rh=1\n",
    "elif away_pitcher_hand=='LHP,':\n",
    "    away_pitcher_rh=0\n",
    "else:\n",
    "    away_pitcher_rh=2\n",
    "\n",
    "#Away Pitcher Record\n",
    "away_pitcher_record=record_split(away_pitcher[6])\n",
    "\n",
    "#Away Pitcher ERA\n",
    "away_pitcher_era=float(away_pitcher[7].strip(')</h2>'))\n",
    "\n",
    "#Away Pitcher Innings Pitched, may contain prior year data if before May\n",
    "away_pitcher_ip=page[8]['IP'][0]\n"
   ]
  },
  {
   "cell_type": "code",
   "execution_count": 242,
   "metadata": {},
   "outputs": [
    {
     "data": {
      "text/plain": [
       "[1, 0.25, 5.07, 60.1]"
      ]
     },
     "execution_count": 242,
     "metadata": {},
     "output_type": "execute_result"
    }
   ],
   "source": [
    "#Ugly Home Pitcher Data\n",
    "home_pitcher=str(soup.find_all('h2')[5]).split()\n",
    "\n",
    "#Home Pitcher Handedness\n",
    "home_pitcher_hand=home_pitcher[5]\n",
    "if home_pitcher_hand=='RHP,':\n",
    "    home_pitcher_rh=1\n",
    "elif home_pitcher_hand=='LHP,':\n",
    "    home_pitcher_rh=0\n",
    "else:\n",
    "    home_pitcher_rh=2\n",
    "\n",
    "#Home Pitcher Record\n",
    "home_pitcher_record=record_split(home_pitcher[6])\n",
    "\n",
    "#Home Pitcher ERA\n",
    "home_pitcher_era=float(home_pitcher[7].strip(')</h2>'))\n",
    "\n",
    "#Home Pitcher Innings Pitched, may contain prior year data if before May\n",
    "home_pitcher_ip=page[5]['IP'][0]\n",
    "\n",
    "[home_pitcher_rh,home_pitcher_record,home_pitcher_era,home_pitcher_ip]"
   ]
  },
  {
   "cell_type": "code",
   "execution_count": 243,
   "metadata": {},
   "outputs": [],
   "source": []
  },
  {
   "cell_type": "code",
   "execution_count": 319,
   "metadata": {},
   "outputs": [],
   "source": [
    "#Away Team Main Table\n",
    "team=tables[0]\n",
    "\n",
    "#Away Team Overall Win/Loss Record\n",
    "away_record=record_split(team[1][1])\n",
    "\n",
    "\n",
    "#Away Team Win/Loss Record in Last 10 Games\n",
    "away_last_ten=record_split(team[1][10])\n",
    "\n",
    "#Away Team Record as Away Team \n",
    "away_venue_record=record_split(team[1][14])\n",
    "\n",
    "#Away Team Record vs Home Team Pitcher Type\n",
    "if home_pitcher_rh==1:\n",
    "    away_pitcher_type_record=record_split(team[1][16])\n",
    "else:\n",
    "    away_pitcher_type_record=record_split(team[1][17])\n"
   ]
  },
  {
   "cell_type": "code",
   "execution_count": 320,
   "metadata": {},
   "outputs": [],
   "source": [
    "#Home Team Main Table\n",
    "team=tables[1]\n",
    "\n",
    "#Home Team Overall Win/Loss Record\n",
    "home_record=record_split(team[1][1])\n",
    "\n",
    "\n",
    "#Home Team Win/Loss Record in Last 10 Games\n",
    "home_last_ten=record_split(team[1][10])\n",
    "\n",
    "#Home Team Record as Home Team \n",
    "away_venue_record=record_split(team[1][13])\n",
    "\n",
    "#Home Team Record vs Away Team Pitcher Type\n",
    "if away_pitcher_rh==1:\n",
    "    home_pitcher_type_record=record_split(team[1][16])\n",
    "else:\n",
    "    home_pitcher_type_record=record_split(team[1][17])\n"
   ]
  },
  {
   "cell_type": "code",
   "execution_count": 300,
   "metadata": {},
   "outputs": [],
   "source": [
    "#Away Team Batting Table, may contain prior year data if before May\n",
    "batting=tables[4]\n",
    "\n",
    "#Away Team Ops vs Home Pitcher Type\n",
    "if home_pitcher_rh==1:\n",
    "    away_ops_vs_pitcher_type=batting['OPS vRH'][len(batting)-1]\n",
    "else:\n",
    "    away_ops_vs_pitcher_type=batting['OPS vLH'][len(batting)-1]\n",
    "\n"
   ]
  },
  {
   "cell_type": "code",
   "execution_count": 206,
   "metadata": {},
   "outputs": [],
   "source": [
    "#Home Team Batting Table, may contain prior year data if before May\n",
    "batting=tables[7]\n",
    "\n",
    "#Home Team Ops vs Away Pitcher Type\n",
    "if away_pitcher_rh==1:\n",
    "    home_ops_vs_pitcher_type=batting['OPS vRH'][len(batting)-1]\n",
    "else:\n",
    "    home_ops_vs_pitcher_type=batting['OPS vLH'][len(batting)-1]\n"
   ]
  },
  {
   "cell_type": "code",
   "execution_count": 299,
   "metadata": {},
   "outputs": [],
   "source": [
    "#Home Team Away Team Matchup Record\n",
    "head2head=tables[2]\n",
    "\n",
    "#Number of Matchups this Season\n",
    "matchup_count=df.loc[head2head['Winner'] == 'Away'].index[0]\n",
    "\n",
    "#Home Team Win % vs this Away Team\n",
    "season_matchups=head2head.head(matchup_count)\n",
    "home_matchup_wins=len(season_matchups.loc[head2head['Winner']==home_abv])\n",
    "home_matchup_record=home_matchup_wins/matchup_count\n"
   ]
  }
 ],
 "metadata": {
  "kernelspec": {
   "display_name": "Python 3",
   "language": "python",
   "name": "python3"
  },
  "language_info": {
   "codemirror_mode": {
    "name": "ipython",
    "version": 3
   },
   "file_extension": ".py",
   "mimetype": "text/x-python",
   "name": "python",
   "nbconvert_exporter": "python",
   "pygments_lexer": "ipython3",
   "version": "3.6.7"
  }
 },
 "nbformat": 4,
 "nbformat_minor": 2
}
