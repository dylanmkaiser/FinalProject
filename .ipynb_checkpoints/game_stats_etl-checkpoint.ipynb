{
 "cells": [
  {
   "cell_type": "code",
   "execution_count": 2,
   "metadata": {},
   "outputs": [],
   "source": [
    "import pandas as pd\n",
    "from bs4 import BeautifulSoup\n",
    "import requests"
   ]
  },
  {
   "cell_type": "code",
   "execution_count": 20,
   "metadata": {},
   "outputs": [],
   "source": [
    "home_abv='BAL'\n",
    "year='2018'\n",
    "month='04'\n",
    "day='01'"
   ]
  },
  {
   "cell_type": "code",
   "execution_count": 21,
   "metadata": {},
   "outputs": [],
   "source": [
    "url=f'https://www.baseball-reference.com/previews/{year}/{home_abv}{year}{month}{day}0.shtml'\n",
    "\n",
    "#Scrape Soup\n",
    "response = requests.get(url)\n",
    "soup = BeautifulSoup(response.text, 'html.parser')\n",
    "\n",
    "#Number of Games Played This Season/Test if We Should Record Data\n"
   ]
  },
  {
   "cell_type": "code",
   "execution_count": 22,
   "metadata": {},
   "outputs": [],
   "source": [
    "#Scrape Pandas Tables\n",
    "tables=pd.read_html(url)"
   ]
  },
  {
   "cell_type": "code",
   "execution_count": 23,
   "metadata": {},
   "outputs": [],
   "source": [
    "#Function that calculates win % or returns 50% if no record\n",
    "def record_split(record_string):\n",
    "    cleaned=record_string.strip(',').split('-')\n",
    "    if int(cleaned[0])+int(cleaned[1])==0:\n",
    "        return .5\n",
    "    else:\n",
    "        return round(int(cleaned[0])/(int(cleaned[1])+int(cleaned[0])),2)"
   ]
  },
  {
   "cell_type": "code",
   "execution_count": 24,
   "metadata": {},
   "outputs": [
    {
     "ename": "ValueError",
     "evalue": "invalid literal for int() with base 10: '0)</h2>'",
     "output_type": "error",
     "traceback": [
      "\u001b[1;31m---------------------------------------------------------------------------\u001b[0m",
      "\u001b[1;31mValueError\u001b[0m                                Traceback (most recent call last)",
      "\u001b[1;32m<ipython-input-24-72d94d272143>\u001b[0m in \u001b[0;36m<module>\u001b[1;34m\u001b[0m\n\u001b[0;32m     12\u001b[0m \u001b[1;33m\u001b[0m\u001b[0m\n\u001b[0;32m     13\u001b[0m \u001b[1;31m#Away Pitcher Record\u001b[0m\u001b[1;33m\u001b[0m\u001b[1;33m\u001b[0m\u001b[1;33m\u001b[0m\u001b[0m\n\u001b[1;32m---> 14\u001b[1;33m \u001b[0maway_pitcher_record\u001b[0m\u001b[1;33m=\u001b[0m\u001b[0mrecord_split\u001b[0m\u001b[1;33m(\u001b[0m\u001b[0maway_pitcher\u001b[0m\u001b[1;33m[\u001b[0m\u001b[1;36m6\u001b[0m\u001b[1;33m]\u001b[0m\u001b[1;33m)\u001b[0m\u001b[1;33m\u001b[0m\u001b[1;33m\u001b[0m\u001b[0m\n\u001b[0m\u001b[0;32m     15\u001b[0m \u001b[1;33m\u001b[0m\u001b[0m\n\u001b[0;32m     16\u001b[0m \u001b[1;31m#Away Pitcher ERA\u001b[0m\u001b[1;33m\u001b[0m\u001b[1;33m\u001b[0m\u001b[1;33m\u001b[0m\u001b[0m\n",
      "\u001b[1;32m<ipython-input-23-ba950e97ef2d>\u001b[0m in \u001b[0;36mrecord_split\u001b[1;34m(record_string)\u001b[0m\n\u001b[0;32m      2\u001b[0m \u001b[1;32mdef\u001b[0m \u001b[0mrecord_split\u001b[0m\u001b[1;33m(\u001b[0m\u001b[0mrecord_string\u001b[0m\u001b[1;33m)\u001b[0m\u001b[1;33m:\u001b[0m\u001b[1;33m\u001b[0m\u001b[1;33m\u001b[0m\u001b[0m\n\u001b[0;32m      3\u001b[0m     \u001b[0mcleaned\u001b[0m\u001b[1;33m=\u001b[0m\u001b[0mrecord_string\u001b[0m\u001b[1;33m.\u001b[0m\u001b[0mstrip\u001b[0m\u001b[1;33m(\u001b[0m\u001b[1;34m','\u001b[0m\u001b[1;33m)\u001b[0m\u001b[1;33m.\u001b[0m\u001b[0msplit\u001b[0m\u001b[1;33m(\u001b[0m\u001b[1;34m'-'\u001b[0m\u001b[1;33m)\u001b[0m\u001b[1;33m\u001b[0m\u001b[1;33m\u001b[0m\u001b[0m\n\u001b[1;32m----> 4\u001b[1;33m     \u001b[1;32mif\u001b[0m \u001b[0mint\u001b[0m\u001b[1;33m(\u001b[0m\u001b[0mcleaned\u001b[0m\u001b[1;33m[\u001b[0m\u001b[1;36m0\u001b[0m\u001b[1;33m]\u001b[0m\u001b[1;33m)\u001b[0m\u001b[1;33m+\u001b[0m\u001b[0mint\u001b[0m\u001b[1;33m(\u001b[0m\u001b[0mcleaned\u001b[0m\u001b[1;33m[\u001b[0m\u001b[1;36m1\u001b[0m\u001b[1;33m]\u001b[0m\u001b[1;33m)\u001b[0m\u001b[1;33m==\u001b[0m\u001b[1;36m0\u001b[0m\u001b[1;33m:\u001b[0m\u001b[1;33m\u001b[0m\u001b[1;33m\u001b[0m\u001b[0m\n\u001b[0m\u001b[0;32m      5\u001b[0m         \u001b[1;32mreturn\u001b[0m \u001b[1;36m.5\u001b[0m\u001b[1;33m\u001b[0m\u001b[1;33m\u001b[0m\u001b[0m\n\u001b[0;32m      6\u001b[0m     \u001b[1;32melse\u001b[0m\u001b[1;33m:\u001b[0m\u001b[1;33m\u001b[0m\u001b[1;33m\u001b[0m\u001b[0m\n",
      "\u001b[1;31mValueError\u001b[0m: invalid literal for int() with base 10: '0)</h2>'"
     ]
    }
   ],
   "source": [
    "#Ugly Away Pitcher Data\n",
    "away_pitcher=str(soup.find_all('h2')[2]).split()\n",
    "\n",
    "#Away Pitcher Handedness\n",
    "away_pitcher_hand=away_pitcher[5]\n",
    "if away_pitcher_hand=='RHP,':\n",
    "    away_pitcher_rh=1\n",
    "elif away_pitcher_hand=='LHP,':\n",
    "    away_pitcher_rh=0\n",
    "else:\n",
    "    away_pitcher_rh=2\n",
    "\n",
    "#Away Pitcher Record\n",
    "away_pitcher_record=record_split(away_pitcher[6])\n",
    "\n",
    "#Away Pitcher ERA\n",
    "away_pitcher_era=float(away_pitcher[7].strip(')</h2>'))\n",
    "\n",
    "#Away Pitcher Innings Pitched, may contain prior year data if before May\n",
    "away_pitcher_ip=tables[8]['IP'][0]\n",
    "\n",
    "int(away_pitcher_ip)"
   ]
  },
  {
   "cell_type": "code",
   "execution_count": null,
   "metadata": {},
   "outputs": [],
   "source": [
    "#Ugly Home Pitcher Data\n",
    "home_pitcher=str(soup.find_all('h2')[5]).split()\n",
    "\n",
    "#Home Pitcher Handedness\n",
    "home_pitcher_hand=home_pitcher[5]\n",
    "if home_pitcher_hand=='RHP,':\n",
    "    home_pitcher_rh=1\n",
    "elif home_pitcher_hand=='LHP,':\n",
    "    home_pitcher_rh=0\n",
    "else:\n",
    "    home_pitcher_rh=2\n",
    "\n",
    "#Home Pitcher Record\n",
    "home_pitcher_record=record_split(home_pitcher[6])\n",
    "\n",
    "#Home Pitcher ERA\n",
    "home_pitcher_era=float(home_pitcher[7].strip(')</h2>'))\n",
    "\n",
    "#Home Pitcher Innings Pitched, may contain prior year data if before May\n",
    "home_pitcher_ip=page[5]['IP'][0]\n",
    "\n",
    "[home_pitcher_rh,home_pitcher_record,home_pitcher_era,home_pitcher_ip]"
   ]
  },
  {
   "cell_type": "code",
   "execution_count": null,
   "metadata": {},
   "outputs": [],
   "source": []
  },
  {
   "cell_type": "code",
   "execution_count": 25,
   "metadata": {},
   "outputs": [
    {
     "ename": "NameError",
     "evalue": "name 'home_pitcher_rh' is not defined",
     "output_type": "error",
     "traceback": [
      "\u001b[1;31m---------------------------------------------------------------------------\u001b[0m",
      "\u001b[1;31mNameError\u001b[0m                                 Traceback (most recent call last)",
      "\u001b[1;32m<ipython-input-25-d151fce80894>\u001b[0m in \u001b[0;36m<module>\u001b[1;34m\u001b[0m\n\u001b[0;32m     13\u001b[0m \u001b[1;33m\u001b[0m\u001b[0m\n\u001b[0;32m     14\u001b[0m \u001b[1;31m#Away Team Record vs Home Team Pitcher Type\u001b[0m\u001b[1;33m\u001b[0m\u001b[1;33m\u001b[0m\u001b[1;33m\u001b[0m\u001b[0m\n\u001b[1;32m---> 15\u001b[1;33m \u001b[1;32mif\u001b[0m \u001b[0mhome_pitcher_rh\u001b[0m\u001b[1;33m==\u001b[0m\u001b[1;36m1\u001b[0m\u001b[1;33m:\u001b[0m\u001b[1;33m\u001b[0m\u001b[1;33m\u001b[0m\u001b[0m\n\u001b[0m\u001b[0;32m     16\u001b[0m     \u001b[0maway_pitcher_type_record\u001b[0m\u001b[1;33m=\u001b[0m\u001b[0mrecord_split\u001b[0m\u001b[1;33m(\u001b[0m\u001b[0mteam\u001b[0m\u001b[1;33m[\u001b[0m\u001b[1;36m1\u001b[0m\u001b[1;33m]\u001b[0m\u001b[1;33m[\u001b[0m\u001b[1;36m16\u001b[0m\u001b[1;33m]\u001b[0m\u001b[1;33m)\u001b[0m\u001b[1;33m\u001b[0m\u001b[1;33m\u001b[0m\u001b[0m\n\u001b[0;32m     17\u001b[0m \u001b[1;32melse\u001b[0m\u001b[1;33m:\u001b[0m\u001b[1;33m\u001b[0m\u001b[1;33m\u001b[0m\u001b[0m\n",
      "\u001b[1;31mNameError\u001b[0m: name 'home_pitcher_rh' is not defined"
     ]
    }
   ],
   "source": [
    "#Away Team Main Table\n",
    "team=tables[0]\n",
    "\n",
    "#Away Team Overall Win/Loss Record\n",
    "away_record=record_split(team[1][1])\n",
    "\n",
    "\n",
    "#Away Team Win/Loss Record in Last 10 Games\n",
    "away_last_ten=record_split(team[1][10])\n",
    "\n",
    "#Away Team Record as Away Team \n",
    "away_venue_record=record_split(team[1][14])\n",
    "\n",
    "#Away Team Record vs Home Team Pitcher Type\n",
    "if home_pitcher_rh==1:\n",
    "    away_pitcher_type_record=record_split(team[1][16])\n",
    "else:\n",
    "    away_pitcher_type_record=record_split(team[1][17])\n"
   ]
  },
  {
   "cell_type": "code",
   "execution_count": 26,
   "metadata": {},
   "outputs": [],
   "source": [
    "#Home Team Main Table\n",
    "team=tables[1]\n",
    "\n",
    "#Home Team Overall Win/Loss Record\n",
    "home_record=record_split(team[1][1])\n",
    "\n",
    "\n",
    "#Home Team Win/Loss Record in Last 10 Games\n",
    "home_last_ten=record_split(team[1][10])\n",
    "\n",
    "#Home Team Record as Home Team \n",
    "away_venue_record=record_split(team[1][13])\n",
    "\n",
    "#Home Team Record vs Away Team Pitcher Type\n",
    "if away_pitcher_rh==1:\n",
    "    home_pitcher_type_record=record_split(team[1][16])\n",
    "else:\n",
    "    home_pitcher_type_record=record_split(team[1][17])\n"
   ]
  },
  {
   "cell_type": "code",
   "execution_count": 27,
   "metadata": {},
   "outputs": [
    {
     "ename": "NameError",
     "evalue": "name 'home_pitcher_rh' is not defined",
     "output_type": "error",
     "traceback": [
      "\u001b[1;31m---------------------------------------------------------------------------\u001b[0m",
      "\u001b[1;31mNameError\u001b[0m                                 Traceback (most recent call last)",
      "\u001b[1;32m<ipython-input-27-678722f3e363>\u001b[0m in \u001b[0;36m<module>\u001b[1;34m\u001b[0m\n\u001b[0;32m      3\u001b[0m \u001b[1;33m\u001b[0m\u001b[0m\n\u001b[0;32m      4\u001b[0m \u001b[1;31m#Away Team Ops vs Home Pitcher Type\u001b[0m\u001b[1;33m\u001b[0m\u001b[1;33m\u001b[0m\u001b[1;33m\u001b[0m\u001b[0m\n\u001b[1;32m----> 5\u001b[1;33m \u001b[1;32mif\u001b[0m \u001b[0mhome_pitcher_rh\u001b[0m\u001b[1;33m==\u001b[0m\u001b[1;36m1\u001b[0m\u001b[1;33m:\u001b[0m\u001b[1;33m\u001b[0m\u001b[1;33m\u001b[0m\u001b[0m\n\u001b[0m\u001b[0;32m      6\u001b[0m     \u001b[0maway_ops_vs_pitcher_type\u001b[0m\u001b[1;33m=\u001b[0m\u001b[0mbatting\u001b[0m\u001b[1;33m[\u001b[0m\u001b[1;34m'OPS vRH'\u001b[0m\u001b[1;33m]\u001b[0m\u001b[1;33m[\u001b[0m\u001b[0mlen\u001b[0m\u001b[1;33m(\u001b[0m\u001b[0mbatting\u001b[0m\u001b[1;33m)\u001b[0m\u001b[1;33m-\u001b[0m\u001b[1;36m1\u001b[0m\u001b[1;33m]\u001b[0m\u001b[1;33m\u001b[0m\u001b[1;33m\u001b[0m\u001b[0m\n\u001b[0;32m      7\u001b[0m \u001b[1;32melse\u001b[0m\u001b[1;33m:\u001b[0m\u001b[1;33m\u001b[0m\u001b[1;33m\u001b[0m\u001b[0m\n",
      "\u001b[1;31mNameError\u001b[0m: name 'home_pitcher_rh' is not defined"
     ]
    }
   ],
   "source": [
    "#Away Team Batting Table, may contain prior year data if before May\n",
    "batting=tables[4]\n",
    "\n",
    "#Away Team Ops vs Home Pitcher Type\n",
    "if home_pitcher_rh==1:\n",
    "    away_ops_vs_pitcher_type=batting['OPS vRH'][len(batting)-1]\n",
    "else:\n",
    "    away_ops_vs_pitcher_type=batting['OPS vLH'][len(batting)-1]\n",
    "\n"
   ]
  },
  {
   "cell_type": "code",
   "execution_count": 28,
   "metadata": {},
   "outputs": [],
   "source": [
    "#Home Team Batting Table, may contain prior year data if before May\n",
    "batting=tables[7]\n",
    "\n",
    "#Home Team Ops vs Away Pitcher Type\n",
    "if away_pitcher_rh==1:\n",
    "    home_ops_vs_pitcher_type=batting['OPS vRH'][len(batting)-1]\n",
    "else:\n",
    "    home_ops_vs_pitcher_type=batting['OPS vLH'][len(batting)-1]\n"
   ]
  },
  {
   "cell_type": "code",
   "execution_count": 29,
   "metadata": {},
   "outputs": [
    {
     "ename": "NameError",
     "evalue": "name 'df' is not defined",
     "output_type": "error",
     "traceback": [
      "\u001b[1;31m---------------------------------------------------------------------------\u001b[0m",
      "\u001b[1;31mNameError\u001b[0m                                 Traceback (most recent call last)",
      "\u001b[1;32m<ipython-input-29-f70c78bc667c>\u001b[0m in \u001b[0;36m<module>\u001b[1;34m\u001b[0m\n\u001b[0;32m      3\u001b[0m \u001b[1;33m\u001b[0m\u001b[0m\n\u001b[0;32m      4\u001b[0m \u001b[1;31m#Number of Matchups this Season\u001b[0m\u001b[1;33m\u001b[0m\u001b[1;33m\u001b[0m\u001b[1;33m\u001b[0m\u001b[0m\n\u001b[1;32m----> 5\u001b[1;33m \u001b[0mmatchup_count\u001b[0m\u001b[1;33m=\u001b[0m\u001b[0mdf\u001b[0m\u001b[1;33m.\u001b[0m\u001b[0mloc\u001b[0m\u001b[1;33m[\u001b[0m\u001b[0mhead2head\u001b[0m\u001b[1;33m[\u001b[0m\u001b[1;34m'Winner'\u001b[0m\u001b[1;33m]\u001b[0m \u001b[1;33m==\u001b[0m \u001b[1;34m'Away'\u001b[0m\u001b[1;33m]\u001b[0m\u001b[1;33m.\u001b[0m\u001b[0mindex\u001b[0m\u001b[1;33m[\u001b[0m\u001b[1;36m0\u001b[0m\u001b[1;33m]\u001b[0m\u001b[1;33m\u001b[0m\u001b[1;33m\u001b[0m\u001b[0m\n\u001b[0m\u001b[0;32m      6\u001b[0m \u001b[1;33m\u001b[0m\u001b[0m\n\u001b[0;32m      7\u001b[0m \u001b[1;31m#Home Team Win % vs this Away Team\u001b[0m\u001b[1;33m\u001b[0m\u001b[1;33m\u001b[0m\u001b[1;33m\u001b[0m\u001b[0m\n",
      "\u001b[1;31mNameError\u001b[0m: name 'df' is not defined"
     ]
    }
   ],
   "source": [
    "#Home Team Away Team Matchup Record\n",
    "head2head=tables[2]\n",
    "\n",
    "#Number of Matchups this Season\n",
    "matchup_count=df.loc[head2head['Winner'] == 'Away'].index[0]\n",
    "\n",
    "#Home Team Win % vs this Away Team\n",
    "season_matchups=head2head.head(matchup_count)\n",
    "home_matchup_wins=len(season_matchups.loc[head2head['Winner']==home_abv])\n",
    "home_matchup_record=home_matchup_wins/matchup_count\n"
   ]
  },
  {
   "cell_type": "code",
   "execution_count": 33,
   "metadata": {},
   "outputs": [
    {
     "data": {
      "text/plain": [
       "'0-0'"
      ]
     },
     "execution_count": 33,
     "metadata": {},
     "output_type": "execute_result"
    }
   ],
   "source": [
    "away_pitcher[6].strip(')</h2>')"
   ]
  },
  {
   "cell_type": "code",
   "execution_count": 34,
   "metadata": {},
   "outputs": [
    {
     "ename": "IndexError",
     "evalue": "list index out of range",
     "output_type": "error",
     "traceback": [
      "\u001b[1;31m---------------------------------------------------------------------------\u001b[0m",
      "\u001b[1;31mIndexError\u001b[0m                                Traceback (most recent call last)",
      "\u001b[1;32m<ipython-input-34-d198e5108b68>\u001b[0m in \u001b[0;36m<module>\u001b[1;34m\u001b[0m\n\u001b[0;32m    171\u001b[0m \u001b[1;33m\u001b[0m\u001b[0m\n\u001b[0;32m    172\u001b[0m \u001b[0murl\u001b[0m\u001b[1;33m=\u001b[0m\u001b[1;34mf'https://www.baseball-reference.com/previews/{year}/{home_abv}{year}{month}{day}0.shtml'\u001b[0m\u001b[1;33m\u001b[0m\u001b[1;33m\u001b[0m\u001b[0m\n\u001b[1;32m--> 173\u001b[1;33m \u001b[0mpreview_extractor\u001b[0m\u001b[1;33m(\u001b[0m\u001b[0murl\u001b[0m\u001b[1;33m,\u001b[0m\u001b[0mhome_abv\u001b[0m\u001b[1;33m,\u001b[0m\u001b[0myear\u001b[0m\u001b[1;33m,\u001b[0m\u001b[0mmonth\u001b[0m\u001b[1;33m,\u001b[0m\u001b[0mday\u001b[0m\u001b[1;33m)\u001b[0m\u001b[1;33m\u001b[0m\u001b[1;33m\u001b[0m\u001b[0m\n\u001b[0m",
      "\u001b[1;32m<ipython-input-34-d198e5108b68>\u001b[0m in \u001b[0;36mpreview_extractor\u001b[1;34m(url, home_abv, year, month, day)\u001b[0m\n\u001b[0;32m     48\u001b[0m \u001b[1;33m\u001b[0m\u001b[0m\n\u001b[0;32m     49\u001b[0m     \u001b[1;31m#Away Pitcher ERA\u001b[0m\u001b[1;33m\u001b[0m\u001b[1;33m\u001b[0m\u001b[1;33m\u001b[0m\u001b[0m\n\u001b[1;32m---> 50\u001b[1;33m     \u001b[0maway_pitcher_era\u001b[0m\u001b[1;33m=\u001b[0m\u001b[0maway_pitcher\u001b[0m\u001b[1;33m[\u001b[0m\u001b[1;36m7\u001b[0m\u001b[1;33m]\u001b[0m\u001b[1;33m.\u001b[0m\u001b[0mstrip\u001b[0m\u001b[1;33m(\u001b[0m\u001b[1;34m')</h2>'\u001b[0m\u001b[1;33m)\u001b[0m\u001b[1;33m\u001b[0m\u001b[1;33m\u001b[0m\u001b[0m\n\u001b[0m\u001b[0;32m     51\u001b[0m \u001b[1;33m\u001b[0m\u001b[0m\n\u001b[0;32m     52\u001b[0m     \u001b[1;31m#Away Pitcher Innings Pitched, may contain prior year data if before May\u001b[0m\u001b[1;33m\u001b[0m\u001b[1;33m\u001b[0m\u001b[1;33m\u001b[0m\u001b[0m\n",
      "\u001b[1;31mIndexError\u001b[0m: list index out of range"
     ]
    }
   ],
   "source": [
    "import pandas as pd\n",
    "from bs4 import BeautifulSoup\n",
    "import requests\n",
    "\n",
    "#Function that calculates win % or returns 50% if no record\n",
    "def record_split(record_string):\n",
    "    cleaned=record_string.strip(',').split('-')\n",
    "    if int(cleaned[0])+int(cleaned[1])==0:\n",
    "        return .5\n",
    "    else:\n",
    "        return round(int(cleaned[0])/(int(cleaned[1])+int(cleaned[0])),2)\n",
    "\n",
    "\n",
    "def preview_extractor(url,home_abv,year,month,day):\n",
    "\n",
    "\n",
    "    preview_id=f'{home_abv}{year}{month}{day}'\n",
    "\n",
    " \n",
    "\n",
    "\n",
    "    #Scrape Pandas Tables\n",
    "    tables=pd.read_html(url)\n",
    "\n",
    "    #Number of Games Played This Season/Test if We Should Record Data\n",
    "    game_no=int(tables[0][1][3])\n",
    "\n",
    "    #Scrape Soup\n",
    "    response = requests.get(url)\n",
    "    soup = BeautifulSoup(response.text, 'html.parser')\n",
    "\n",
    "\n",
    "\n",
    "    #Ugly Away Pitcher Data\n",
    "    away_pitcher=str(soup.find_all('h2')[2]).split()\n",
    "\n",
    "    #Away Pitcher Handedness\n",
    "    away_pitcher_hand=away_pitcher[5]\n",
    "    if away_pitcher_hand=='RHP,':\n",
    "        away_pitcher_rh=1\n",
    "    elif away_pitcher_hand=='LHP,':\n",
    "        away_pitcher_rh=0\n",
    "    else:\n",
    "        away_pitcher_rh=2\n",
    "\n",
    "    #Away Pitcher Record\n",
    "    try: \n",
    "        away_pitcher_record=record_split(away_pitcher[6]\n",
    "    except:\n",
    "        away_pitcher_record=record_split(away_pitcher[6].strip(')</h2>'))\n",
    "\n",
    "    #Away Pitcher ERA\n",
    "    try:\n",
    "        away_pitcher_era=away_pitcher[7]\n",
    "    except:\n",
    "        away_pitcher_era=away_pitcher[7].strip(')</h2>')\n",
    "\n",
    "    #Away Pitcher Innings Pitched, may contain prior year data if before May\n",
    "    away_pitcher_ip=str(tables[8]['IP'][0])\n",
    "\n",
    "    #Ugly Home Pitcher Data\n",
    "    home_pitcher=str(soup.find_all('h2')[5]).split()\n",
    "\n",
    "    #Home Pitcher Handedness\n",
    "    home_pitcher_hand=home_pitcher[5]\n",
    "    if home_pitcher_hand=='RHP,':\n",
    "        home_pitcher_rh=1\n",
    "    elif home_pitcher_hand=='LHP,':\n",
    "        home_pitcher_rh=0\n",
    "    else:\n",
    "        home_pitcher_rh=2\n",
    "\n",
    "    #Home Pitcher Record\n",
    "    home_pitcher_record=record_split(home_pitcher[6])\n",
    "\n",
    "    #Home Pitcher ERA\n",
    "    home_pitcher_era=home_pitcher[7].strip(')</h2>')\n",
    "\n",
    "    #Home Pitcher Innings Pitched, may contain prior year data if before May\n",
    "    home_pitcher_ip=int(tables[5]['IP'][0])\n",
    "\n",
    "    [home_pitcher_rh,home_pitcher_record,home_pitcher_era,home_pitcher_ip]\n",
    "\n",
    "    #Away Team Main Table\n",
    "    team=tables[0]\n",
    "\n",
    "    #Away Team Overall Win/Loss Record\n",
    "    away_record=record_split(team[1][1])\n",
    "\n",
    "\n",
    "    #Away Team Win/Loss Record in Last 10 Games\n",
    "    away_last_ten=record_split(team[1][10])\n",
    "\n",
    "    #Away Team Record as Away Team \n",
    "    away_venue_record=record_split(team[1][14])\n",
    "\n",
    "    #Away Team Record vs Home Team Pitcher Type\n",
    "    if home_pitcher_rh==1:\n",
    "        away_pitcher_type_record=record_split(team[1][16])\n",
    "    else:\n",
    "        record_split(team[1][17])\n",
    "\n",
    "    #Home Team Main Table\n",
    "    team=tables[1]\n",
    "\n",
    "    #Home Team Overall Win/Loss Record\n",
    "    home_record=record_split(team[1][1])\n",
    "\n",
    "\n",
    "    #Home Team Win/Loss Record in Last 10 Games\n",
    "    home_last_ten=record_split(team[1][10])\n",
    "\n",
    "    #Home Team Record as Home Team \n",
    "    home_venue_record=record_split(team[1][13])\n",
    "\n",
    "    #Home Team Record vs Away Team Pitcher Type\n",
    "    if away_pitcher_rh==1:\n",
    "        home_pitcher_type_record=record_split(team[1][16])\n",
    "    else:\n",
    "        home_pitcher_type_record=record_split(team[1][17])\n",
    "\n",
    "    #Away Team Batting Table, may contain prior year data if before May\n",
    "    batting=tables[4]\n",
    "\n",
    "    #Away Team Ops vs Home Pitcher Type\n",
    "    if home_pitcher_rh==1:\n",
    "        away_ops_vs_pitcher_type=batting['OPS vRH'][len(batting)-1]\n",
    "    else:\n",
    "        away_ops_vs_pitcher_type=batting['OPS vLH'][len(batting)-1]\n",
    "\n",
    "    #Home Team Batting Table, may contain prior year data if before May\n",
    "    batting=tables[7]\n",
    "\n",
    "    #Home Team Ops vs Away Pitcher Type\n",
    "    if away_pitcher_rh==1:\n",
    "        home_ops_vs_pitcher_type=batting['OPS vRH'][len(batting)-1]\n",
    "    else:\n",
    "        home_ops_vs_pitcher_type=batting['OPS vLH'][len(batting)-1]\n",
    "\n",
    "    #Home Team Away Team Matchup Record\n",
    "    head2head=tables[2]\n",
    "\n",
    "    #Number of Matchups this Season\n",
    "    matchup_count=head2head.loc[head2head['Winner'] == 'Away'].index[0]\n",
    "\n",
    "    #Home Team Win % vs this Away Team\n",
    "    season_matchups=head2head.head(matchup_count)\n",
    "    home_matchup_wins=len(season_matchups.loc[head2head['Winner']==home_abv])\n",
    "    home_matchup_record=home_matchup_wins/matchup_count\n",
    "\n",
    "    preview_data=(preview_id,game_no,\n",
    "    away_pitcher_rh,away_pitcher_record,away_pitcher_era,away_pitcher_ip,\n",
    "    home_pitcher_rh,home_pitcher_record,home_pitcher_era,home_pitcher_ip,\n",
    "    away_record,away_last_ten,away_venue_record,away_pitcher_type_record,\n",
    "    home_record,home_last_ten,home_venue_record,home_pitcher_type_record,\n",
    "    away_ops_vs_pitcher_type,home_ops_vs_pitcher_type,\n",
    "    matchup_count,home_matchup_record)\n",
    "\n",
    "    preview_headers=('id','game_no',\n",
    "    'away_pitcher_rh','away_pitcher_record','away_pitcher_era','away_pitcher_ip',\n",
    "    'home_pitcher_rh','home_pitcher_record','home_pitcher_era','home_pitcher_ip',\n",
    "    'away_record','away_last_ten','away_venue_record','away_pitcher_type_record',\n",
    "    'home_record','home_last_ten','home_venue_record','home_pitcher_type_record',\n",
    "    'away_ops_vs_pitcher_type','home_ops_vs_pitcher_type',\n",
    "    'matchup_count','home_matchup_record')\n",
    "\n",
    "    print (f'{preview_id} extract complete')\n",
    "    return preview_data\n",
    "\n",
    "home_abv='BAL'\n",
    "year='2018'\n",
    "month='04'\n",
    "day='01'\n",
    "\n",
    "\n",
    "\n",
    "\n",
    "url=f'https://www.baseball-reference.com/previews/{year}/{home_abv}{year}{month}{day}0.shtml'\n",
    "preview_extractor(url,home_abv,year,month,day)"
   ]
  },
  {
   "cell_type": "code",
   "execution_count": null,
   "metadata": {},
   "outputs": [],
   "source": []
  }
 ],
 "metadata": {
  "kernelspec": {
   "display_name": "Python 3",
   "language": "python",
   "name": "python3"
  },
  "language_info": {
   "codemirror_mode": {
    "name": "ipython",
    "version": 3
   },
   "file_extension": ".py",
   "mimetype": "text/x-python",
   "name": "python",
   "nbconvert_exporter": "python",
   "pygments_lexer": "ipython3",
   "version": "3.7.1"
  }
 },
 "nbformat": 4,
 "nbformat_minor": 2
}
